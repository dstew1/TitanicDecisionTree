{
 "cells": [
  {
   "cell_type": "code",
   "execution_count": 1,
   "id": "5c4f150c",
   "metadata": {},
   "outputs": [
    {
     "data": {
      "text/plain": [
       "'\\nIn this notebook I will be using a dataset of the passengers of the Titanic to create a decision tree model to predict the\\nsurvival of the passengers.\\n'"
      ]
     },
     "execution_count": 1,
     "metadata": {},
     "output_type": "execute_result"
    }
   ],
   "source": [
    "'''\n",
    "In this notebook I will be using a dataset of the passengers of the Titanic to create a decision tree model to predict the\n",
    "survival of the passengers.\n",
    "'''"
   ]
  },
  {
   "cell_type": "code",
   "execution_count": null,
   "id": "d6d329a7",
   "metadata": {},
   "outputs": [],
   "source": [
    "#Starting imports\n",
    "import pandas as pd"
   ]
  },
  {
   "cell_type": "code",
   "execution_count": null,
   "id": "f84cc371",
   "metadata": {
    "scrolled": false
   },
   "outputs": [],
   "source": [
    "#Retrieving my dataset\n",
    "url = 'https://raw.githubusercontent.com/codebasics/py/master/ML/9_decision_tree/Exercise/titanic.csv'\n",
    "df = pd.read_csv(url)\n",
    "df.head(5)"
   ]
  },
  {
   "cell_type": "code",
   "execution_count": null,
   "id": "00efd2c7",
   "metadata": {},
   "outputs": [],
   "source": [
    "#Dropping columns I don't need\n",
    "df = df.drop(columns=['PassengerId','Name','SibSp','Parch','Ticket','Cabin','Embarked'])"
   ]
  },
  {
   "cell_type": "code",
   "execution_count": null,
   "id": "f18bd240",
   "metadata": {},
   "outputs": [],
   "source": [
    "#Separating inputs and target dataframes\n",
    "inputs = df.drop('Survived',axis='columns')\n",
    "target = df['Survived']"
   ]
  },
  {
   "cell_type": "code",
   "execution_count": null,
   "id": "0f1fc35b",
   "metadata": {
    "scrolled": true
   },
   "outputs": [],
   "source": [
    "inputs"
   ]
  },
  {
   "cell_type": "code",
   "execution_count": null,
   "id": "baf26547",
   "metadata": {},
   "outputs": [],
   "source": [
    "#Here I am changing the Sex column into numerical values so that they work with my model later\n",
    "inputs.Sex = inputs.Sex.map({'male':1, 'female':2})"
   ]
  },
  {
   "cell_type": "code",
   "execution_count": null,
   "id": "b9dcba21",
   "metadata": {},
   "outputs": [],
   "source": [
    "#Looks like we have some null values in the age column\n",
    "inputs.isnull().sum()"
   ]
  },
  {
   "cell_type": "code",
   "execution_count": null,
   "id": "a34832d2",
   "metadata": {},
   "outputs": [],
   "source": [
    "#Decided to go with the mean for the NaN values\n",
    "inputs.Age = inputs.Age.fillna(inputs.Age.mean())"
   ]
  },
  {
   "cell_type": "code",
   "execution_count": null,
   "id": "75093777",
   "metadata": {},
   "outputs": [],
   "source": [
    "#No more nulls\n",
    "inputs.isnull().sum()"
   ]
  },
  {
   "cell_type": "code",
   "execution_count": null,
   "id": "a05d7cea",
   "metadata": {},
   "outputs": [],
   "source": [
    "inputs"
   ]
  },
  {
   "cell_type": "code",
   "execution_count": null,
   "id": "26c34ab4",
   "metadata": {},
   "outputs": [],
   "source": [
    "#from sklearn import tree"
   ]
  },
  {
   "cell_type": "code",
   "execution_count": null,
   "id": "3b9f5c5e",
   "metadata": {},
   "outputs": [],
   "source": [
    "#model = tree.DecisionTreeClassifier()"
   ]
  },
  {
   "cell_type": "code",
   "execution_count": null,
   "id": "e3aa8910",
   "metadata": {},
   "outputs": [],
   "source": [
    "#model.fit(inputs,target)"
   ]
  },
  {
   "cell_type": "code",
   "execution_count": null,
   "id": "5f4ffd02",
   "metadata": {},
   "outputs": [],
   "source": [
    "#model.score(inputs,target)"
   ]
  },
  {
   "cell_type": "code",
   "execution_count": null,
   "id": "9307c1a6",
   "metadata": {},
   "outputs": [],
   "source": [
    "#model.predict([[3,1,35,2]])"
   ]
  },
  {
   "cell_type": "code",
   "execution_count": null,
   "id": "7150e35b",
   "metadata": {
    "scrolled": false
   },
   "outputs": [],
   "source": [
    "#model.predict([[3,2,35,2]])"
   ]
  },
  {
   "cell_type": "markdown",
   "id": "d266e409",
   "metadata": {},
   "source": [
    "# Train and test splits"
   ]
  },
  {
   "cell_type": "code",
   "execution_count": null,
   "id": "b18f657d",
   "metadata": {},
   "outputs": [],
   "source": [
    "from sklearn.model_selection import train_test_split"
   ]
  },
  {
   "cell_type": "code",
   "execution_count": null,
   "id": "f1e6687b",
   "metadata": {},
   "outputs": [],
   "source": [
    "in_train, in_test, tar_train, tar_test = train_test_split(inputs,target,test_size=0.2)"
   ]
  },
  {
   "cell_type": "code",
   "execution_count": null,
   "id": "c01085b8",
   "metadata": {
    "scrolled": true
   },
   "outputs": [],
   "source": [
    "from sklearn import tree\n",
    "model = tree.DecisionTreeClassifier()\n",
    "model.fit(in_train,tar_train)"
   ]
  },
  {
   "cell_type": "code",
   "execution_count": null,
   "id": "e59007e5",
   "metadata": {},
   "outputs": [],
   "source": [
    "model.score(in_test,tar_test)"
   ]
  },
  {
   "cell_type": "code",
   "execution_count": null,
   "id": "5c53ee9c",
   "metadata": {},
   "outputs": [],
   "source": [
    "'''I got a decent score which I am happy with, I could probably improve the algorithm and get a better score by improving some \n",
    "of my steps in the cleaning process, but for this project I am happy with .849\n",
    "'''"
   ]
  },
  {
   "cell_type": "code",
   "execution_count": null,
   "id": "3e9f179e",
   "metadata": {
    "scrolled": true
   },
   "outputs": [],
   "source": [
    "model.predict([[3,1,35,2]])"
   ]
  },
  {
   "cell_type": "code",
   "execution_count": null,
   "id": "7065bcdf",
   "metadata": {
    "scrolled": true
   },
   "outputs": [],
   "source": [
    "model.predict([[3,2,35,2]])"
   ]
  }
 ],
 "metadata": {
  "kernelspec": {
   "display_name": "Python 3 (ipykernel)",
   "language": "python",
   "name": "python3"
  },
  "language_info": {
   "codemirror_mode": {
    "name": "ipython",
    "version": 3
   },
   "file_extension": ".py",
   "mimetype": "text/x-python",
   "name": "python",
   "nbconvert_exporter": "python",
   "pygments_lexer": "ipython3",
   "version": "3.10.9"
  }
 },
 "nbformat": 4,
 "nbformat_minor": 5
}
